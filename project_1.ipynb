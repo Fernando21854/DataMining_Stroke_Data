{
  "nbformat": 4,
  "nbformat_minor": 0,
  "metadata": {
    "colab": {
      "provenance": [],
      "mount_file_id": "1h8kuBoVqzBpI6GT9w_OqFgSKNWdMsnjE",
      "authorship_tag": "ABX9TyNvjtbzmsApluJrTUSdYUnb",
      "include_colab_link": true
    },
    "kernelspec": {
      "name": "python3",
      "display_name": "Python 3"
    },
    "language_info": {
      "name": "python"
    }
  },
  "cells": [
    {
      "cell_type": "markdown",
      "metadata": {
        "id": "view-in-github",
        "colab_type": "text"
      },
      "source": [
        "<a href=\"https://colab.research.google.com/github/Fernando21854/DataMining_Stroke_Data/blob/main/project_1.ipynb\" target=\"_parent\"><img src=\"https://colab.research.google.com/assets/colab-badge.svg\" alt=\"Open In Colab\"/></a>"
      ]
    },
    {
      "cell_type": "markdown",
      "source": [
        "# Reading Data\n"
      ],
      "metadata": {
        "id": "VD3nWJRYgYi9"
      }
    },
    {
      "cell_type": "code",
      "execution_count": 62,
      "metadata": {
        "id": "NKgzV_Jbn_yz"
      },
      "outputs": [],
      "source": [
        "import pandas as pd\n",
        "import numpy as np\n",
        "import matplotlib.pyplot as plt\n",
        "import seaborn as sns\n",
        "\n",
        "\n",
        "from sklearn.impute import SimpleImputer\n",
        "from sklearn.impute import KNNImputer\n",
        "from sklearn.preprocessing import LabelEncoder\n",
        "\n",
        "\n",
        "\n",
        "\n",
        "stroke_data = pd.read_csv('/content/drive/MyDrive/Colab Notebooks/healthcare-dataset-stroke-data.csv')\n",
        "\n"
      ]
    },
    {
      "cell_type": "code",
      "source": [
        "stroke_data.describe()\n"
      ],
      "metadata": {
        "colab": {
          "base_uri": "https://localhost:8080/",
          "height": 300
        },
        "id": "4KHTG9okIGeF",
        "outputId": "c3e1341c-cf3e-4cdb-d9c9-b650f98ef5bf"
      },
      "execution_count": 63,
      "outputs": [
        {
          "output_type": "execute_result",
          "data": {
            "text/plain": [
              "                 id          age  hypertension  heart_disease  \\\n",
              "count   5110.000000  5110.000000   5110.000000    5110.000000   \n",
              "mean   36517.829354    43.226614      0.097456       0.054012   \n",
              "std    21161.721625    22.612647      0.296607       0.226063   \n",
              "min       67.000000     0.080000      0.000000       0.000000   \n",
              "25%    17741.250000    25.000000      0.000000       0.000000   \n",
              "50%    36932.000000    45.000000      0.000000       0.000000   \n",
              "75%    54682.000000    61.000000      0.000000       0.000000   \n",
              "max    72940.000000    82.000000      1.000000       1.000000   \n",
              "\n",
              "       avg_glucose_level          bmi       stroke  \n",
              "count        5110.000000  4909.000000  5110.000000  \n",
              "mean          106.147677    28.893237     0.048728  \n",
              "std            45.283560     7.854067     0.215320  \n",
              "min            55.120000    10.300000     0.000000  \n",
              "25%            77.245000    23.500000     0.000000  \n",
              "50%            91.885000    28.100000     0.000000  \n",
              "75%           114.090000    33.100000     0.000000  \n",
              "max           271.740000    97.600000     1.000000  "
            ],
            "text/html": [
              "\n",
              "  <div id=\"df-052a3adf-8c74-441a-be8e-4db9b97706db\">\n",
              "    <div class=\"colab-df-container\">\n",
              "      <div>\n",
              "<style scoped>\n",
              "    .dataframe tbody tr th:only-of-type {\n",
              "        vertical-align: middle;\n",
              "    }\n",
              "\n",
              "    .dataframe tbody tr th {\n",
              "        vertical-align: top;\n",
              "    }\n",
              "\n",
              "    .dataframe thead th {\n",
              "        text-align: right;\n",
              "    }\n",
              "</style>\n",
              "<table border=\"1\" class=\"dataframe\">\n",
              "  <thead>\n",
              "    <tr style=\"text-align: right;\">\n",
              "      <th></th>\n",
              "      <th>id</th>\n",
              "      <th>age</th>\n",
              "      <th>hypertension</th>\n",
              "      <th>heart_disease</th>\n",
              "      <th>avg_glucose_level</th>\n",
              "      <th>bmi</th>\n",
              "      <th>stroke</th>\n",
              "    </tr>\n",
              "  </thead>\n",
              "  <tbody>\n",
              "    <tr>\n",
              "      <th>count</th>\n",
              "      <td>5110.000000</td>\n",
              "      <td>5110.000000</td>\n",
              "      <td>5110.000000</td>\n",
              "      <td>5110.000000</td>\n",
              "      <td>5110.000000</td>\n",
              "      <td>4909.000000</td>\n",
              "      <td>5110.000000</td>\n",
              "    </tr>\n",
              "    <tr>\n",
              "      <th>mean</th>\n",
              "      <td>36517.829354</td>\n",
              "      <td>43.226614</td>\n",
              "      <td>0.097456</td>\n",
              "      <td>0.054012</td>\n",
              "      <td>106.147677</td>\n",
              "      <td>28.893237</td>\n",
              "      <td>0.048728</td>\n",
              "    </tr>\n",
              "    <tr>\n",
              "      <th>std</th>\n",
              "      <td>21161.721625</td>\n",
              "      <td>22.612647</td>\n",
              "      <td>0.296607</td>\n",
              "      <td>0.226063</td>\n",
              "      <td>45.283560</td>\n",
              "      <td>7.854067</td>\n",
              "      <td>0.215320</td>\n",
              "    </tr>\n",
              "    <tr>\n",
              "      <th>min</th>\n",
              "      <td>67.000000</td>\n",
              "      <td>0.080000</td>\n",
              "      <td>0.000000</td>\n",
              "      <td>0.000000</td>\n",
              "      <td>55.120000</td>\n",
              "      <td>10.300000</td>\n",
              "      <td>0.000000</td>\n",
              "    </tr>\n",
              "    <tr>\n",
              "      <th>25%</th>\n",
              "      <td>17741.250000</td>\n",
              "      <td>25.000000</td>\n",
              "      <td>0.000000</td>\n",
              "      <td>0.000000</td>\n",
              "      <td>77.245000</td>\n",
              "      <td>23.500000</td>\n",
              "      <td>0.000000</td>\n",
              "    </tr>\n",
              "    <tr>\n",
              "      <th>50%</th>\n",
              "      <td>36932.000000</td>\n",
              "      <td>45.000000</td>\n",
              "      <td>0.000000</td>\n",
              "      <td>0.000000</td>\n",
              "      <td>91.885000</td>\n",
              "      <td>28.100000</td>\n",
              "      <td>0.000000</td>\n",
              "    </tr>\n",
              "    <tr>\n",
              "      <th>75%</th>\n",
              "      <td>54682.000000</td>\n",
              "      <td>61.000000</td>\n",
              "      <td>0.000000</td>\n",
              "      <td>0.000000</td>\n",
              "      <td>114.090000</td>\n",
              "      <td>33.100000</td>\n",
              "      <td>0.000000</td>\n",
              "    </tr>\n",
              "    <tr>\n",
              "      <th>max</th>\n",
              "      <td>72940.000000</td>\n",
              "      <td>82.000000</td>\n",
              "      <td>1.000000</td>\n",
              "      <td>1.000000</td>\n",
              "      <td>271.740000</td>\n",
              "      <td>97.600000</td>\n",
              "      <td>1.000000</td>\n",
              "    </tr>\n",
              "  </tbody>\n",
              "</table>\n",
              "</div>\n",
              "      <button class=\"colab-df-convert\" onclick=\"convertToInteractive('df-052a3adf-8c74-441a-be8e-4db9b97706db')\"\n",
              "              title=\"Convert this dataframe to an interactive table.\"\n",
              "              style=\"display:none;\">\n",
              "        \n",
              "  <svg xmlns=\"http://www.w3.org/2000/svg\" height=\"24px\"viewBox=\"0 0 24 24\"\n",
              "       width=\"24px\">\n",
              "    <path d=\"M0 0h24v24H0V0z\" fill=\"none\"/>\n",
              "    <path d=\"M18.56 5.44l.94 2.06.94-2.06 2.06-.94-2.06-.94-.94-2.06-.94 2.06-2.06.94zm-11 1L8.5 8.5l.94-2.06 2.06-.94-2.06-.94L8.5 2.5l-.94 2.06-2.06.94zm10 10l.94 2.06.94-2.06 2.06-.94-2.06-.94-.94-2.06-.94 2.06-2.06.94z\"/><path d=\"M17.41 7.96l-1.37-1.37c-.4-.4-.92-.59-1.43-.59-.52 0-1.04.2-1.43.59L10.3 9.45l-7.72 7.72c-.78.78-.78 2.05 0 2.83L4 21.41c.39.39.9.59 1.41.59.51 0 1.02-.2 1.41-.59l7.78-7.78 2.81-2.81c.8-.78.8-2.07 0-2.86zM5.41 20L4 18.59l7.72-7.72 1.47 1.35L5.41 20z\"/>\n",
              "  </svg>\n",
              "      </button>\n",
              "      \n",
              "  <style>\n",
              "    .colab-df-container {\n",
              "      display:flex;\n",
              "      flex-wrap:wrap;\n",
              "      gap: 12px;\n",
              "    }\n",
              "\n",
              "    .colab-df-convert {\n",
              "      background-color: #E8F0FE;\n",
              "      border: none;\n",
              "      border-radius: 50%;\n",
              "      cursor: pointer;\n",
              "      display: none;\n",
              "      fill: #1967D2;\n",
              "      height: 32px;\n",
              "      padding: 0 0 0 0;\n",
              "      width: 32px;\n",
              "    }\n",
              "\n",
              "    .colab-df-convert:hover {\n",
              "      background-color: #E2EBFA;\n",
              "      box-shadow: 0px 1px 2px rgba(60, 64, 67, 0.3), 0px 1px 3px 1px rgba(60, 64, 67, 0.15);\n",
              "      fill: #174EA6;\n",
              "    }\n",
              "\n",
              "    [theme=dark] .colab-df-convert {\n",
              "      background-color: #3B4455;\n",
              "      fill: #D2E3FC;\n",
              "    }\n",
              "\n",
              "    [theme=dark] .colab-df-convert:hover {\n",
              "      background-color: #434B5C;\n",
              "      box-shadow: 0px 1px 3px 1px rgba(0, 0, 0, 0.15);\n",
              "      filter: drop-shadow(0px 1px 2px rgba(0, 0, 0, 0.3));\n",
              "      fill: #FFFFFF;\n",
              "    }\n",
              "  </style>\n",
              "\n",
              "      <script>\n",
              "        const buttonEl =\n",
              "          document.querySelector('#df-052a3adf-8c74-441a-be8e-4db9b97706db button.colab-df-convert');\n",
              "        buttonEl.style.display =\n",
              "          google.colab.kernel.accessAllowed ? 'block' : 'none';\n",
              "\n",
              "        async function convertToInteractive(key) {\n",
              "          const element = document.querySelector('#df-052a3adf-8c74-441a-be8e-4db9b97706db');\n",
              "          const dataTable =\n",
              "            await google.colab.kernel.invokeFunction('convertToInteractive',\n",
              "                                                     [key], {});\n",
              "          if (!dataTable) return;\n",
              "\n",
              "          const docLinkHtml = 'Like what you see? Visit the ' +\n",
              "            '<a target=\"_blank\" href=https://colab.research.google.com/notebooks/data_table.ipynb>data table notebook</a>'\n",
              "            + ' to learn more about interactive tables.';\n",
              "          element.innerHTML = '';\n",
              "          dataTable['output_type'] = 'display_data';\n",
              "          await google.colab.output.renderOutput(dataTable, element);\n",
              "          const docLink = document.createElement('div');\n",
              "          docLink.innerHTML = docLinkHtml;\n",
              "          element.appendChild(docLink);\n",
              "        }\n",
              "      </script>\n",
              "    </div>\n",
              "  </div>\n",
              "  "
            ]
          },
          "metadata": {},
          "execution_count": 63
        }
      ]
    },
    {
      "cell_type": "code",
      "source": [
        "stroke_data.isna().sum()"
      ],
      "metadata": {
        "colab": {
          "base_uri": "https://localhost:8080/"
        },
        "id": "dRZEUGJqRw4j",
        "outputId": "05b2a7e4-154e-41d4-ff75-ee418afa4be7"
      },
      "execution_count": 64,
      "outputs": [
        {
          "output_type": "execute_result",
          "data": {
            "text/plain": [
              "id                     0\n",
              "gender                 0\n",
              "age                    0\n",
              "hypertension           0\n",
              "heart_disease          0\n",
              "ever_married           0\n",
              "work_type              0\n",
              "Residence_type         0\n",
              "avg_glucose_level      0\n",
              "bmi                  201\n",
              "smoking_status         0\n",
              "stroke                 0\n",
              "dtype: int64"
            ]
          },
          "metadata": {},
          "execution_count": 64
        }
      ]
    },
    {
      "cell_type": "markdown",
      "source": [
        "Observation from data above:\n",
        "\n",
        "*  Based on the data we can see that the average age is 43 years old\n",
        "\n",
        "*   Hypertension is relatively low \n",
        "\n",
        "*   Average glucose levels is >100 which is considered healthy\n",
        "\n",
        "*   Heart disease and stroke averages are low, but continously increase based on age\n",
        "\n",
        "\n",
        "\n",
        "\n"
      ],
      "metadata": {
        "id": "KyxbRnDdIRW_"
      }
    },
    {
      "cell_type": "code",
      "source": [
        "from google.colab import drive\n",
        "drive.mount('/content/drive')"
      ],
      "metadata": {
        "id": "6lwFd5lt2K0g",
        "colab": {
          "base_uri": "https://localhost:8080/"
        },
        "outputId": "22da7a8b-c3d9-4c93-edcc-ddf1788668c8"
      },
      "execution_count": 65,
      "outputs": [
        {
          "output_type": "stream",
          "name": "stdout",
          "text": [
            "Drive already mounted at /content/drive; to attempt to forcibly remount, call drive.mount(\"/content/drive\", force_remount=True).\n"
          ]
        }
      ]
    },
    {
      "cell_type": "code",
      "source": [
        "#loop to iterate through each column in the stroke_data \n",
        "for i in stroke_data.columns[1:]:\n",
        "  #checks if data type is either \"object\" or \"int64\"\n",
        "  if ( stroke_data[i].dtype == 'object') or (stroke_data[i].dtype == 'int64'):\n",
        "    #create a countplot from seaborn library\n",
        "    sns.countplot(data = stroke_data, x = i,hue='stroke')\n",
        "    plt.title('The number of samples with {} based on stroke'.format(i))\n",
        "    #display plot\n",
        "    plt.show()"
      ],
      "metadata": {
        "id": "-15cWi7hrHro",
        "colab": {
          "base_uri": "https://localhost:8080/",
          "height": 1000
        },
        "outputId": "1aef7a2d-d6da-4a12-8f7f-2cdd06d7afe9"
      },
      "execution_count": 66,
      "outputs": [
        {
          "output_type": "display_data",
          "data": {
            "text/plain": [
              "<Figure size 576x396 with 1 Axes>"
            ],
            "image/png": "[encoded data removed]"
          },
          "metadata": {}
        },
        {
          "output_type": "display_data",
          "data": {
            "text/plain": [
              "<Figure size 576x396 with 1 Axes>"
            ],
            "image/png": "[encoded data removed]"
          },
          "metadata": {}
        },
        {
          "output_type": "display_data",
          "data": {
            "text/plain": [
              "<Figure size 576x396 with 1 Axes>"
            ],
            "image/png": "[encoded data removed]"
          },
          "metadata": {}
        },
        {
          "output_type": "display_data",
          "data": {
            "text/plain": [
              "<Figure size 576x396 with 1 Axes>"
            ],
            "image/png": "[encoded data removed]"
          },
          "metadata": {}
        },
        {
          "output_type": "display_data",
          "data": {
            "text/plain": [
              "<Figure size 576x396 with 1 Axes>"
            ],
            "image/png": "[encoded data removed]"
          },
          "metadata": {}
        },
        {
          "output_type": "display_data",
          "data": {
            "text/plain": [
              "<Figure size 576x396 with 1 Axes>"
            ],
            "image/png": "[encoded data removed]"
          },
          "metadata": {}
        },
        {
          "output_type": "display_data",
          "data": {
            "text/plain": [
              "<Figure size 576x396 with 1 Axes>"
            ],
            "image/png": "[encoded data removed]"
          },
          "metadata": {}
        },
        {
          "output_type": "display_data",
          "data": {
            "text/plain": [
              "<Figure size 576x396 with 1 Axes>"
            ],
            "image/png": "[encoded data removed]"
          },
          "metadata": {}
        }
      ]
    },
    {
      "cell_type": "code",
      "source": [
        "#sets the size of the figure for the plot using \"rc params\" from \"seaborn library\" 18,10 is width and height \n",
        "sns.set(rc={'figure.figsize':(18,10)})\n",
        "#FacetGrid object that allows for the creation of multiple plots by categories and set height\n",
        "#.map makes a histogram of the distribution of values in the age column and the add_legend shows the categories \n",
        "sns.FacetGrid(stroke_data, hue=\"stroke\", height = 8).map(sns.distplot, \"age\").add_legend()\n",
        "#sets the title of the plot to \"univariate distribution plot for patients age\n",
        "plt.title(\"unvariate distribution plot for patients age\")\n",
        "#display plot ***DONT FORGET PARENTHESES***\n",
        "plt.show()"
      ],
      "metadata": {
        "colab": {
          "base_uri": "https://localhost:8080/",
          "height": 686
        },
        "id": "y2XdKau9GQh4",
        "outputId": "1851d2dc-684e-4880-e1c8-9ee13cb61506"
      },
      "execution_count": 67,
      "outputs": [
        {
          "output_type": "stream",
          "name": "stderr",
          "text": [
            "/usr/local/lib/python3.9/dist-packages/seaborn/distributions.py:2619: FutureWarning: `distplot` is a deprecated function and will be removed in a future version. Please adapt your code to use either `displot` (a figure-level function with similar flexibility) or `histplot` (an axes-level function for histograms).\n",
            "  warnings.warn(msg, FutureWarning)\n",
            "/usr/local/lib/python3.9/dist-packages/seaborn/distributions.py:2619: FutureWarning: `distplot` is a deprecated function and will be removed in a future version. Please adapt your code to use either `displot` (a figure-level function with similar flexibility) or `histplot` (an axes-level function for histograms).\n",
            "  warnings.warn(msg, FutureWarning)\n"
          ]
        },
        {
          "output_type": "display_data",
          "data": {
            "text/plain": [
              "<Figure size 622.6x576 with 1 Axes>"
            ],
            "image/png": "[encoded data removed]"
          },
          "metadata": {}
        }
      ]
    },
    {
      "cell_type": "markdown",
      "source": [
        "From the distribution plot we can see that the higher the age the higher chance they have of having a stroke. At around age 80 it is peak age of having a stroke. \n"
      ],
      "metadata": {
        "id": "Y0PdUsOFBM4a"
      }
    },
    {
      "cell_type": "code",
      "source": [
        "#set size of figure\n",
        "sns.set(rc={'figure.figsize':(18,10)})\n",
        "#use sns.violinplot with data and x and y \n",
        "seaborn_plot = sns.violinplot(data = stroke_data, x = \"stroke\", y = \"age\" )\n",
        "#change label font size for better looking data\n",
        "seaborn_plot.set_xlabel(\"STROKE\", fontsize = 25)\n",
        "seaborn_plot.set_ylabel(\"AGE\", fontsize = 25)\n",
        "\n"
      ],
      "metadata": {
        "colab": {
          "base_uri": "https://localhost:8080/",
          "height": 643
        },
        "id": "Mbdk3ZXYBX1h",
        "outputId": "be380203-f401-46d7-c49c-249ec94b0c33"
      },
      "execution_count": 68,
      "outputs": [
        {
          "output_type": "execute_result",
          "data": {
            "text/plain": [
              "Text(0, 0.5, 'AGE')"
            ]
          },
          "metadata": {},
          "execution_count": 68
        },
        {
          "output_type": "display_data",
          "data": {
            "text/plain": [
              "<Figure size 1296x720 with 1 Axes>"
            ],
            "image/png": "[encoded data removed]"
          },
          "metadata": {}
        }
      ]
    },
    {
      "cell_type": "markdown",
      "source": [
        "According to this violin plot the likelihood of getting a stroke is around 75 to around 80 since it shows the highest."
      ],
      "metadata": {
        "id": "0V7OkK4cFcOs"
      }
    },
    {
      "cell_type": "markdown",
      "source": [
        "**Is this dataset imbalanced?**\n",
        "Yes, the data set is imbalanced because in our stroke data there is less percentage of people that get strokes between the rest of our categories. Due to having low numbers of people getting strokes we get an imbalanced data set."
      ],
      "metadata": {
        "id": "WRRAc6FhMb84"
      }
    },
    {
      "cell_type": "code",
      "source": [
        "# use ax variable to assign the subplot object, then set width and height\n",
        "fig, ax = plt.subplots(figsize=(8,8))\n",
        "#use sns.heatmap to show a visualization of our data and get the correlation matrix between the columns\n",
        "heatmap = sns.heatmap(stroke_data[[\"age\", \"stroke\", \"avg_glucose_level\", \"hypertension\", \"bmi\", \"heart_disease\"]].corr(), vmax= 1, annot=True)\n",
        "heatmap.set_title(\"Correlation HeatMap\")"
      ],
      "metadata": {
        "colab": {
          "base_uri": "https://localhost:8080/",
          "height": 612
        },
        "id": "47Vjvs-sFmZ_",
        "outputId": "12e79535-1406-4c23-a989-05e6618a8bc9"
      },
      "execution_count": 69,
      "outputs": [
        {
          "output_type": "execute_result",
          "data": {
            "text/plain": [
              "Text(0.5, 1.0, 'Correlation HeatMap')"
            ]
          },
          "metadata": {},
          "execution_count": 69
        },
        {
          "output_type": "display_data",
          "data": {
            "text/plain": [
              "<Figure size 576x576 with 2 Axes>"
            ],
            "image/png": "[encoded data removed]"
          },
          "metadata": {}
        }
      ]
    },
    {
      "cell_type": "code",
      "source": [
        "#see correlation of data for better understanding\n",
        "stroke_data[1:].corr()"
      ],
      "metadata": {
        "colab": {
          "base_uri": "https://localhost:8080/",
          "height": 269
        },
        "id": "-I6AI5A8JEZ1",
        "outputId": "da11a776-4338-4536-f06c-26996c6d30d5"
      },
      "execution_count": 70,
      "outputs": [
        {
          "output_type": "execute_result",
          "data": {
            "text/plain": [
              "                         id       age  hypertension  heart_disease  \\\n",
              "id                 1.000000  0.003806      0.003467      -0.000233   \n",
              "age                0.003806  1.000000      0.276498       0.263415   \n",
              "hypertension       0.003467  0.276498      1.000000       0.108763   \n",
              "heart_disease     -0.000233  0.263415      0.108763       1.000000   \n",
              "avg_glucose_level  0.001782  0.237810      0.174775       0.160030   \n",
              "bmi                0.003352  0.333256      0.167892       0.040565   \n",
              "stroke             0.007527  0.244843      0.128435       0.131772   \n",
              "\n",
              "                   avg_glucose_level       bmi    stroke  \n",
              "id                          0.001782  0.003352  0.007527  \n",
              "age                         0.237810  0.333256  0.244843  \n",
              "hypertension                0.174775  0.167892  0.128435  \n",
              "heart_disease               0.160030  0.040565  0.131772  \n",
              "avg_glucose_level           1.000000  0.175102  0.129946  \n",
              "bmi                         0.175102  1.000000  0.041525  \n",
              "stroke                      0.129946  0.041525  1.000000  "
            ],
            "text/html": [
              "\n",
              "  <div id=\"df-f6b26c80-5fed-4627-a8de-63b72b96f94c\">\n",
              "    <div class=\"colab-df-container\">\n",
              "      <div>\n",
              "<style scoped>\n",
              "    .dataframe tbody tr th:only-of-type {\n",
              "        vertical-align: middle;\n",
              "    }\n",
              "\n",
              "    .dataframe tbody tr th {\n",
              "        vertical-align: top;\n",
              "    }\n",
              "\n",
              "    .dataframe thead th {\n",
              "        text-align: right;\n",
              "    }\n",
              "</style>\n",
              "<table border=\"1\" class=\"dataframe\">\n",
              "  <thead>\n",
              "    <tr style=\"text-align: right;\">\n",
              "      <th></th>\n",
              "      <th>id</th>\n",
              "      <th>age</th>\n",
              "      <th>hypertension</th>\n",
              "      <th>heart_disease</th>\n",
              "      <th>avg_glucose_level</th>\n",
              "      <th>bmi</th>\n",
              "      <th>stroke</th>\n",
              "    </tr>\n",
              "  </thead>\n",
              "  <tbody>\n",
              "    <tr>\n",
              "      <th>id</th>\n",
              "      <td>1.000000</td>\n",
              "      <td>0.003806</td>\n",
              "      <td>0.003467</td>\n",
              "      <td>-0.000233</td>\n",
              "      <td>0.001782</td>\n",
              "      <td>0.003352</td>\n",
              "      <td>0.007527</td>\n",
              "    </tr>\n",
              "    <tr>\n",
              "      <th>age</th>\n",
              "      <td>0.003806</td>\n",
              "      <td>1.000000</td>\n",
              "      <td>0.276498</td>\n",
              "      <td>0.263415</td>\n",
              "      <td>0.237810</td>\n",
              "      <td>0.333256</td>\n",
              "      <td>0.244843</td>\n",
              "    </tr>\n",
              "    <tr>\n",
              "      <th>hypertension</th>\n",
              "      <td>0.003467</td>\n",
              "      <td>0.276498</td>\n",
              "      <td>1.000000</td>\n",
              "      <td>0.108763</td>\n",
              "      <td>0.174775</td>\n",
              "      <td>0.167892</td>\n",
              "      <td>0.128435</td>\n",
              "    </tr>\n",
              "    <tr>\n",
              "      <th>heart_disease</th>\n",
              "      <td>-0.000233</td>\n",
              "      <td>0.263415</td>\n",
              "      <td>0.108763</td>\n",
              "      <td>1.000000</td>\n",
              "      <td>0.160030</td>\n",
              "      <td>0.040565</td>\n",
              "      <td>0.131772</td>\n",
              "    </tr>\n",
              "    <tr>\n",
              "      <th>avg_glucose_level</th>\n",
              "      <td>0.001782</td>\n",
              "      <td>0.237810</td>\n",
              "      <td>0.174775</td>\n",
              "      <td>0.160030</td>\n",
              "      <td>1.000000</td>\n",
              "      <td>0.175102</td>\n",
              "      <td>0.129946</td>\n",
              "    </tr>\n",
              "    <tr>\n",
              "      <th>bmi</th>\n",
              "      <td>0.003352</td>\n",
              "      <td>0.333256</td>\n",
              "      <td>0.167892</td>\n",
              "      <td>0.040565</td>\n",
              "      <td>0.175102</td>\n",
              "      <td>1.000000</td>\n",
              "      <td>0.041525</td>\n",
              "    </tr>\n",
              "    <tr>\n",
              "      <th>stroke</th>\n",
              "      <td>0.007527</td>\n",
              "      <td>0.244843</td>\n",
              "      <td>0.128435</td>\n",
              "      <td>0.131772</td>\n",
              "      <td>0.129946</td>\n",
              "      <td>0.041525</td>\n",
              "      <td>1.000000</td>\n",
              "    </tr>\n",
              "  </tbody>\n",
              "</table>\n",
              "</div>\n",
              "      <button class=\"colab-df-convert\" onclick=\"convertToInteractive('df-f6b26c80-5fed-4627-a8de-63b72b96f94c')\"\n",
              "              title=\"Convert this dataframe to an interactive table.\"\n",
              "              style=\"display:none;\">\n",
              "        \n",
              "  <svg xmlns=\"http://www.w3.org/2000/svg\" height=\"24px\"viewBox=\"0 0 24 24\"\n",
              "       width=\"24px\">\n",
              "    <path d=\"M0 0h24v24H0V0z\" fill=\"none\"/>\n",
              "    <path d=\"M18.56 5.44l.94 2.06.94-2.06 2.06-.94-2.06-.94-.94-2.06-.94 2.06-2.06.94zm-11 1L8.5 8.5l.94-2.06 2.06-.94-2.06-.94L8.5 2.5l-.94 2.06-2.06.94zm10 10l.94 2.06.94-2.06 2.06-.94-2.06-.94-.94-2.06-.94 2.06-2.06.94z\"/><path d=\"M17.41 7.96l-1.37-1.37c-.4-.4-.92-.59-1.43-.59-.52 0-1.04.2-1.43.59L10.3 9.45l-7.72 7.72c-.78.78-.78 2.05 0 2.83L4 21.41c.39.39.9.59 1.41.59.51 0 1.02-.2 1.41-.59l7.78-7.78 2.81-2.81c.8-.78.8-2.07 0-2.86zM5.41 20L4 18.59l7.72-7.72 1.47 1.35L5.41 20z\"/>\n",
              "  </svg>\n",
              "      </button>\n",
              "      \n",
              "  <style>\n",
              "    .colab-df-container {\n",
              "      display:flex;\n",
              "      flex-wrap:wrap;\n",
              "      gap: 12px;\n",
              "    }\n",
              "\n",
              "    .colab-df-convert {\n",
              "      background-color: #E8F0FE;\n",
              "      border: none;\n",
              "      border-radius: 50%;\n",
              "      cursor: pointer;\n",
              "      display: none;\n",
              "      fill: #1967D2;\n",
              "      height: 32px;\n",
              "      padding: 0 0 0 0;\n",
              "      width: 32px;\n",
              "    }\n",
              "\n",
              "    .colab-df-convert:hover {\n",
              "      background-color: #E2EBFA;\n",
              "      box-shadow: 0px 1px 2px rgba(60, 64, 67, 0.3), 0px 1px 3px 1px rgba(60, 64, 67, 0.15);\n",
              "      fill: #174EA6;\n",
              "    }\n",
              "\n",
              "    [theme=dark] .colab-df-convert {\n",
              "      background-color: #3B4455;\n",
              "      fill: #D2E3FC;\n",
              "    }\n",
              "\n",
              "    [theme=dark] .colab-df-convert:hover {\n",
              "      background-color: #434B5C;\n",
              "      box-shadow: 0px 1px 3px 1px rgba(0, 0, 0, 0.15);\n",
              "      filter: drop-shadow(0px 1px 2px rgba(0, 0, 0, 0.3));\n",
              "      fill: #FFFFFF;\n",
              "    }\n",
              "  </style>\n",
              "\n",
              "      <script>\n",
              "        const buttonEl =\n",
              "          document.querySelector('#df-f6b26c80-5fed-4627-a8de-63b72b96f94c button.colab-df-convert');\n",
              "        buttonEl.style.display =\n",
              "          google.colab.kernel.accessAllowed ? 'block' : 'none';\n",
              "\n",
              "        async function convertToInteractive(key) {\n",
              "          const element = document.querySelector('#df-f6b26c80-5fed-4627-a8de-63b72b96f94c');\n",
              "          const dataTable =\n",
              "            await google.colab.kernel.invokeFunction('convertToInteractive',\n",
              "                                                     [key], {});\n",
              "          if (!dataTable) return;\n",
              "\n",
              "          const docLinkHtml = 'Like what you see? Visit the ' +\n",
              "            '<a target=\"_blank\" href=https://colab.research.google.com/notebooks/data_table.ipynb>data table notebook</a>'\n",
              "            + ' to learn more about interactive tables.';\n",
              "          element.innerHTML = '';\n",
              "          dataTable['output_type'] = 'display_data';\n",
              "          await google.colab.output.renderOutput(dataTable, element);\n",
              "          const docLink = document.createElement('div');\n",
              "          docLink.innerHTML = docLinkHtml;\n",
              "          element.appendChild(docLink);\n",
              "        }\n",
              "      </script>\n",
              "    </div>\n",
              "  </div>\n",
              "  "
            ]
          },
          "metadata": {},
          "execution_count": 70
        }
      ]
    },
    {
      "cell_type": "markdown",
      "source": [
        "After closely observing the data we can see that there is a very strong correlation on the ages, glucose level, heart disease, and the bmi because they are closer to 1. The most obvious one is bmi and age that show a very strong correlation which we can see on the heatmap above. "
      ],
      "metadata": {
        "id": "q8WmxLeTKTLL"
      }
    },
    {
      "cell_type": "code",
      "source": [
        "plt.figure(figsize = (12,7))\n",
        "sns.boxplot(data=stroke_data, x = stroke_data[\"avg_glucose_level\"], color=\"blue\")\n",
        "\n",
        "\n",
        "plt.figure(figsize = (12,7))\n",
        "sns.boxplot(data = stroke_data, x = stroke_data[\"bmi\"], color = \"green\")"
      ],
      "metadata": {
        "colab": {
          "base_uri": "https://localhost:8080/",
          "height": 902
        },
        "id": "wKOnVqSVNsj7",
        "outputId": "06f3d6b6-f65e-466e-8bf7-6ab0a36f0379"
      },
      "execution_count": 71,
      "outputs": [
        {
          "output_type": "execute_result",
          "data": {
            "text/plain": [
              "<AxesSubplot:xlabel='bmi'>"
            ]
          },
          "metadata": {},
          "execution_count": 71
        },
        {
          "output_type": "display_data",
          "data": {
            "text/plain": [
              "<Figure size 864x504 with 1 Axes>"
            ],
            "image/png": "[encoded data removed]"
          },
          "metadata": {}
        },
        {
          "output_type": "display_data",
          "data": {
            "text/plain": [
              "<Figure size 864x504 with 1 Axes>"
            ],
            "image/png": "[encoded data removed]"
          },
          "metadata": {}
        }
      ]
    },
    {
      "cell_type": "code",
      "source": [
        "avg_glucose_level = stroke_data.loc[stroke_data[\"avg_glucose_level\"] > 160]\n",
        "bmi_outliers = stroke_data.loc[stroke_data[\"bmi\"] >50]\n",
        "#filter data to remove outlier\n",
        "mask = (stroke_data['avg_glucose_level'] >160) & (stroke_data['bmi'] > 50)\n",
        "\n",
        "stroke_data[mask]\n",
        "\n"
      ],
      "metadata": {
        "id": "7FtzSRAOR5tL",
        "colab": {
          "base_uri": "https://localhost:8080/",
          "height": 771
        },
        "outputId": "0b1191d1-43ac-4737-e9d0-78e2b2019ca4"
      },
      "execution_count": 72,
      "outputs": [
        {
          "output_type": "execute_result",
          "data": {
            "text/plain": [
              "         id  gender   age  hypertension  heart_disease ever_married  \\\n",
              "113   41069  Female  45.0             0              0          Yes   \n",
              "254   32257  Female  47.0             0              0          Yes   \n",
              "258   28674  Female  74.0             1              0          Yes   \n",
              "466    1307  Female  61.0             1              0          Yes   \n",
              "544     545    Male  42.0             0              0          Yes   \n",
              "595   39639  Female  46.0             0              0          Yes   \n",
              "1061   8332  Female  50.0             0              0          Yes   \n",
              "1257   5821  Female  50.0             0              0          Yes   \n",
              "1322  35913  Female  55.0             1              0          Yes   \n",
              "1782  11412  Female  59.0             0              0          Yes   \n",
              "1898  25405    Male  62.0             0              0          Yes   \n",
              "2081   5355    Male  63.0             0              0          Yes   \n",
              "3060  32604    Male  49.0             0              0          Yes   \n",
              "3238  47776  Female  57.0             0              0          Yes   \n",
              "3243  11111  Female  66.0             1              0          Yes   \n",
              "3439  21661  Female  68.0             0              0          Yes   \n",
              "3606  14872    Male  45.0             1              0          Yes   \n",
              "3688  38575    Male  58.0             1              0          Yes   \n",
              "3909   4077    Male  49.0             0              0          Yes   \n",
              "3931  27660  Female  73.0             1              0           No   \n",
              "3980  11192  Female  45.0             0              0          Yes   \n",
              "4475  60675  Female  48.0             1              0          Yes   \n",
              "4952  16245    Male  51.0             1              0          Yes   \n",
              "\n",
              "          work_type Residence_type  avg_glucose_level   bmi   smoking_status  \\\n",
              "113         Private          Rural             224.10  56.6     never smoked   \n",
              "254         Private          Urban             210.95  50.1          Unknown   \n",
              "258   Self-employed          Urban             205.84  54.6     never smoked   \n",
              "466         Private          Rural             170.05  60.2           smokes   \n",
              "544         Private          Rural             210.48  71.9     never smoked   \n",
              "595         Private          Rural             188.11  50.2           smokes   \n",
              "1061        Private          Rural             206.25  53.4  formerly smoked   \n",
              "1257        Private          Rural             217.39  50.6          Unknown   \n",
              "1322        Private          Urban             206.40  54.8     never smoked   \n",
              "1782        Private          Rural             234.82  51.8     never smoked   \n",
              "1898       Govt_job          Urban             187.52  57.7     never smoked   \n",
              "2081       Govt_job          Rural             231.69  56.1  formerly smoked   \n",
              "3060  Self-employed          Rural             215.81  58.1     never smoked   \n",
              "3238       Govt_job          Rural             176.78  50.4     never smoked   \n",
              "3243       Govt_job          Urban             205.01  52.7  formerly smoked   \n",
              "3439       Govt_job          Urban             228.05  51.9          Unknown   \n",
              "3606  Self-employed          Rural             239.19  52.5          Unknown   \n",
              "3688  Self-employed          Rural             209.15  52.9  formerly smoked   \n",
              "3909        Private          Urban             219.70  53.8          Unknown   \n",
              "3931  Self-employed          Rural             198.30  54.3  formerly smoked   \n",
              "3980        Private          Rural             218.10  55.0           smokes   \n",
              "4475       Govt_job          Rural             221.08  57.2     never smoked   \n",
              "4952  Self-employed          Rural             211.83  56.6     never smoked   \n",
              "\n",
              "      stroke  \n",
              "113        1  \n",
              "254        0  \n",
              "258        0  \n",
              "466        0  \n",
              "544        0  \n",
              "595        0  \n",
              "1061       0  \n",
              "1257       0  \n",
              "1322       0  \n",
              "1782       0  \n",
              "1898       0  \n",
              "2081       0  \n",
              "3060       0  \n",
              "3238       0  \n",
              "3243       0  \n",
              "3439       0  \n",
              "3606       0  \n",
              "3688       0  \n",
              "3909       0  \n",
              "3931       0  \n",
              "3980       0  \n",
              "4475       0  \n",
              "4952       0  "
            ],
            "text/html": [
              "\n",
              "  <div id=\"df-49a85a22-860e-4198-8d46-885cf6c52cda\">\n",
              "    <div class=\"colab-df-container\">\n",
              "      <div>\n",
              "<style scoped>\n",
              "    .dataframe tbody tr th:only-of-type {\n",
              "        vertical-align: middle;\n",
              "    }\n",
              "\n",
              "    .dataframe tbody tr th {\n",
              "        vertical-align: top;\n",
              "    }\n",
              "\n",
              "    .dataframe thead th {\n",
              "        text-align: right;\n",
              "    }\n",
              "</style>\n",
              "<table border=\"1\" class=\"dataframe\">\n",
              "  <thead>\n",
              "    <tr style=\"text-align: right;\">\n",
              "      <th></th>\n",
              "      <th>id</th>\n",
              "      <th>gender</th>\n",
              "      <th>age</th>\n",
              "      <th>hypertension</th>\n",
              "      <th>heart_disease</th>\n",
              "      <th>ever_married</th>\n",
              "      <th>work_type</th>\n",
              "      <th>Residence_type</th>\n",
              "      <th>avg_glucose_level</th>\n",
              "      <th>bmi</th>\n",
              "      <th>smoking_status</th>\n",
              "      <th>stroke</th>\n",
              "    </tr>\n",
              "  </thead>\n",
              "  <tbody>\n",
              "    <tr>\n",
              "      <th>113</th>\n",
              "      <td>41069</td>\n",
              "      <td>Female</td>\n",
              "      <td>45.0</td>\n",
              "      <td>0</td>\n",
              "      <td>0</td>\n",
              "      <td>Yes</td>\n",
              "      <td>Private</td>\n",
              "      <td>Rural</td>\n",
              "      <td>224.10</td>\n",
              "      <td>56.6</td>\n",
              "      <td>never smoked</td>\n",
              "      <td>1</td>\n",
              "    </tr>\n",
              "    <tr>\n",
              "      <th>254</th>\n",
              "      <td>32257</td>\n",
              "      <td>Female</td>\n",
              "      <td>47.0</td>\n",
              "      <td>0</td>\n",
              "      <td>0</td>\n",
              "      <td>Yes</td>\n",
              "      <td>Private</td>\n",
              "      <td>Urban</td>\n",
              "      <td>210.95</td>\n",
              "      <td>50.1</td>\n",
              "      <td>Unknown</td>\n",
              "      <td>0</td>\n",
              "    </tr>\n",
              "    <tr>\n",
              "      <th>258</th>\n",
              "      <td>28674</td>\n",
              "      <td>Female</td>\n",
              "      <td>74.0</td>\n",
              "      <td>1</td>\n",
              "      <td>0</td>\n",
              "      <td>Yes</td>\n",
              "      <td>Self-employed</td>\n",
              "      <td>Urban</td>\n",
              "      <td>205.84</td>\n",
              "      <td>54.6</td>\n",
              "      <td>never smoked</td>\n",
              "      <td>0</td>\n",
              "    </tr>\n",
              "    <tr>\n",
              "      <th>466</th>\n",
              "      <td>1307</td>\n",
              "      <td>Female</td>\n",
              "      <td>61.0</td>\n",
              "      <td>1</td>\n",
              "      <td>0</td>\n",
              "      <td>Yes</td>\n",
              "      <td>Private</td>\n",
              "      <td>Rural</td>\n",
              "      <td>170.05</td>\n",
              "      <td>60.2</td>\n",
              "      <td>smokes</td>\n",
              "      <td>0</td>\n",
              "    </tr>\n",
              "    <tr>\n",
              "      <th>544</th>\n",
              "      <td>545</td>\n",
              "      <td>Male</td>\n",
              "      <td>42.0</td>\n",
              "      <td>0</td>\n",
              "      <td>0</td>\n",
              "      <td>Yes</td>\n",
              "      <td>Private</td>\n",
              "      <td>Rural</td>\n",
              "      <td>210.48</td>\n",
              "      <td>71.9</td>\n",
              "      <td>never smoked</td>\n",
              "      <td>0</td>\n",
              "    </tr>\n",
              "    <tr>\n",
              "      <th>595</th>\n",
              "      <td>39639</td>\n",
              "      <td>Female</td>\n",
              "      <td>46.0</td>\n",
              "      <td>0</td>\n",
              "      <td>0</td>\n",
              "      <td>Yes</td>\n",
              "      <td>Private</td>\n",
              "      <td>Rural</td>\n",
              "      <td>188.11</td>\n",
              "      <td>50.2</td>\n",
              "      <td>smokes</td>\n",
              "      <td>0</td>\n",
              "    </tr>\n",
              "    <tr>\n",
              "      <th>1061</th>\n",
              "      <td>8332</td>\n",
              "      <td>Female</td>\n",
              "      <td>50.0</td>\n",
              "      <td>0</td>\n",
              "      <td>0</td>\n",
              "      <td>Yes</td>\n",
              "      <td>Private</td>\n",
              "      <td>Rural</td>\n",
              "      <td>206.25</td>\n",
              "      <td>53.4</td>\n",
              "      <td>formerly smoked</td>\n",
              "      <td>0</td>\n",
              "    </tr>\n",
              "    <tr>\n",
              "      <th>1257</th>\n",
              "      <td>5821</td>\n",
              "      <td>Female</td>\n",
              "      <td>50.0</td>\n",
              "      <td>0</td>\n",
              "      <td>0</td>\n",
              "      <td>Yes</td>\n",
              "      <td>Private</td>\n",
              "      <td>Rural</td>\n",
              "      <td>217.39</td>\n",
              "      <td>50.6</td>\n",
              "      <td>Unknown</td>\n",
              "      <td>0</td>\n",
              "    </tr>\n",
              "    <tr>\n",
              "      <th>1322</th>\n",
              "      <td>35913</td>\n",
              "      <td>Female</td>\n",
              "      <td>55.0</td>\n",
              "      <td>1</td>\n",
              "      <td>0</td>\n",
              "      <td>Yes</td>\n",
              "      <td>Private</td>\n",
              "      <td>Urban</td>\n",
              "      <td>206.40</td>\n",
              "      <td>54.8</td>\n",
              "      <td>never smoked</td>\n",
              "      <td>0</td>\n",
              "    </tr>\n",
              "    <tr>\n",
              "      <th>1782</th>\n",
              "      <td>11412</td>\n",
              "      <td>Female</td>\n",
              "      <td>59.0</td>\n",
              "      <td>0</td>\n",
              "      <td>0</td>\n",
              "      <td>Yes</td>\n",
              "      <td>Private</td>\n",
              "      <td>Rural</td>\n",
              "      <td>234.82</td>\n",
              "      <td>51.8</td>\n",
              "      <td>never smoked</td>\n",
              "      <td>0</td>\n",
              "    </tr>\n",
              "    <tr>\n",
              "      <th>1898</th>\n",
              "      <td>25405</td>\n",
              "      <td>Male</td>\n",
              "      <td>62.0</td>\n",
              "      <td>0</td>\n",
              "      <td>0</td>\n",
              "      <td>Yes</td>\n",
              "      <td>Govt_job</td>\n",
              "      <td>Urban</td>\n",
              "      <td>187.52</td>\n",
              "      <td>57.7</td>\n",
              "      <td>never smoked</td>\n",
              "      <td>0</td>\n",
              "    </tr>\n",
              "    <tr>\n",
              "      <th>2081</th>\n",
              "      <td>5355</td>\n",
              "      <td>Male</td>\n",
              "      <td>63.0</td>\n",
              "      <td>0</td>\n",
              "      <td>0</td>\n",
              "      <td>Yes</td>\n",
              "      <td>Govt_job</td>\n",
              "      <td>Rural</td>\n",
              "      <td>231.69</td>\n",
              "      <td>56.1</td>\n",
              "      <td>formerly smoked</td>\n",
              "      <td>0</td>\n",
              "    </tr>\n",
              "    <tr>\n",
              "      <th>3060</th>\n",
              "      <td>32604</td>\n",
              "      <td>Male</td>\n",
              "      <td>49.0</td>\n",
              "      <td>0</td>\n",
              "      <td>0</td>\n",
              "      <td>Yes</td>\n",
              "      <td>Self-employed</td>\n",
              "      <td>Rural</td>\n",
              "      <td>215.81</td>\n",
              "      <td>58.1</td>\n",
              "      <td>never smoked</td>\n",
              "      <td>0</td>\n",
              "    </tr>\n",
              "    <tr>\n",
              "      <th>3238</th>\n",
              "      <td>47776</td>\n",
              "      <td>Female</td>\n",
              "      <td>57.0</td>\n",
              "      <td>0</td>\n",
              "      <td>0</td>\n",
              "      <td>Yes</td>\n",
              "      <td>Govt_job</td>\n",
              "      <td>Rural</td>\n",
              "      <td>176.78</td>\n",
              "      <td>50.4</td>\n",
              "      <td>never smoked</td>\n",
              "      <td>0</td>\n",
              "    </tr>\n",
              "    <tr>\n",
              "      <th>3243</th>\n",
              "      <td>11111</td>\n",
              "      <td>Female</td>\n",
              "      <td>66.0</td>\n",
              "      <td>1</td>\n",
              "      <td>0</td>\n",
              "      <td>Yes</td>\n",
              "      <td>Govt_job</td>\n",
              "      <td>Urban</td>\n",
              "      <td>205.01</td>\n",
              "      <td>52.7</td>\n",
              "      <td>formerly smoked</td>\n",
              "      <td>0</td>\n",
              "    </tr>\n",
              "    <tr>\n",
              "      <th>3439</th>\n",
              "      <td>21661</td>\n",
              "      <td>Female</td>\n",
              "      <td>68.0</td>\n",
              "      <td>0</td>\n",
              "      <td>0</td>\n",
              "      <td>Yes</td>\n",
              "      <td>Govt_job</td>\n",
              "      <td>Urban</td>\n",
              "      <td>228.05</td>\n",
              "      <td>51.9</td>\n",
              "      <td>Unknown</td>\n",
              "      <td>0</td>\n",
              "    </tr>\n",
              "    <tr>\n",
              "      <th>3606</th>\n",
              "      <td>14872</td>\n",
              "      <td>Male</td>\n",
              "      <td>45.0</td>\n",
              "      <td>1</td>\n",
              "      <td>0</td>\n",
              "      <td>Yes</td>\n",
              "      <td>Self-employed</td>\n",
              "      <td>Rural</td>\n",
              "      <td>239.19</td>\n",
              "      <td>52.5</td>\n",
              "      <td>Unknown</td>\n",
              "      <td>0</td>\n",
              "    </tr>\n",
              "    <tr>\n",
              "      <th>3688</th>\n",
              "      <td>38575</td>\n",
              "      <td>Male</td>\n",
              "      <td>58.0</td>\n",
              "      <td>1</td>\n",
              "      <td>0</td>\n",
              "      <td>Yes</td>\n",
              "      <td>Self-employed</td>\n",
              "      <td>Rural</td>\n",
              "      <td>209.15</td>\n",
              "      <td>52.9</td>\n",
              "      <td>formerly smoked</td>\n",
              "      <td>0</td>\n",
              "    </tr>\n",
              "    <tr>\n",
              "      <th>3909</th>\n",
              "      <td>4077</td>\n",
              "      <td>Male</td>\n",
              "      <td>49.0</td>\n",
              "      <td>0</td>\n",
              "      <td>0</td>\n",
              "      <td>Yes</td>\n",
              "      <td>Private</td>\n",
              "      <td>Urban</td>\n",
              "      <td>219.70</td>\n",
              "      <td>53.8</td>\n",
              "      <td>Unknown</td>\n",
              "      <td>0</td>\n",
              "    </tr>\n",
              "    <tr>\n",
              "      <th>3931</th>\n",
              "      <td>27660</td>\n",
              "      <td>Female</td>\n",
              "      <td>73.0</td>\n",
              "      <td>1</td>\n",
              "      <td>0</td>\n",
              "      <td>No</td>\n",
              "      <td>Self-employed</td>\n",
              "      <td>Rural</td>\n",
              "      <td>198.30</td>\n",
              "      <td>54.3</td>\n",
              "      <td>formerly smoked</td>\n",
              "      <td>0</td>\n",
              "    </tr>\n",
              "    <tr>\n",
              "      <th>3980</th>\n",
              "      <td>11192</td>\n",
              "      <td>Female</td>\n",
              "      <td>45.0</td>\n",
              "      <td>0</td>\n",
              "      <td>0</td>\n",
              "      <td>Yes</td>\n",
              "      <td>Private</td>\n",
              "      <td>Rural</td>\n",
              "      <td>218.10</td>\n",
              "      <td>55.0</td>\n",
              "      <td>smokes</td>\n",
              "      <td>0</td>\n",
              "    </tr>\n",
              "    <tr>\n",
              "      <th>4475</th>\n",
              "      <td>60675</td>\n",
              "      <td>Female</td>\n",
              "      <td>48.0</td>\n",
              "      <td>1</td>\n",
              "      <td>0</td>\n",
              "      <td>Yes</td>\n",
              "      <td>Govt_job</td>\n",
              "      <td>Rural</td>\n",
              "      <td>221.08</td>\n",
              "      <td>57.2</td>\n",
              "      <td>never smoked</td>\n",
              "      <td>0</td>\n",
              "    </tr>\n",
              "    <tr>\n",
              "      <th>4952</th>\n",
              "      <td>16245</td>\n",
              "      <td>Male</td>\n",
              "      <td>51.0</td>\n",
              "      <td>1</td>\n",
              "      <td>0</td>\n",
              "      <td>Yes</td>\n",
              "      <td>Self-employed</td>\n",
              "      <td>Rural</td>\n",
              "      <td>211.83</td>\n",
              "      <td>56.6</td>\n",
              "      <td>never smoked</td>\n",
              "      <td>0</td>\n",
              "    </tr>\n",
              "  </tbody>\n",
              "</table>\n",
              "</div>\n",
              "      <button class=\"colab-df-convert\" onclick=\"convertToInteractive('df-49a85a22-860e-4198-8d46-885cf6c52cda')\"\n",
              "              title=\"Convert this dataframe to an interactive table.\"\n",
              "              style=\"display:none;\">\n",
              "        \n",
              "  <svg xmlns=\"http://www.w3.org/2000/svg\" height=\"24px\"viewBox=\"0 0 24 24\"\n",
              "       width=\"24px\">\n",
              "    <path d=\"M0 0h24v24H0V0z\" fill=\"none\"/>\n",
              "    <path d=\"M18.56 5.44l.94 2.06.94-2.06 2.06-.94-2.06-.94-.94-2.06-.94 2.06-2.06.94zm-11 1L8.5 8.5l.94-2.06 2.06-.94-2.06-.94L8.5 2.5l-.94 2.06-2.06.94zm10 10l.94 2.06.94-2.06 2.06-.94-2.06-.94-.94-2.06-.94 2.06-2.06.94z\"/><path d=\"M17.41 7.96l-1.37-1.37c-.4-.4-.92-.59-1.43-.59-.52 0-1.04.2-1.43.59L10.3 9.45l-7.72 7.72c-.78.78-.78 2.05 0 2.83L4 21.41c.39.39.9.59 1.41.59.51 0 1.02-.2 1.41-.59l7.78-7.78 2.81-2.81c.8-.78.8-2.07 0-2.86zM5.41 20L4 18.59l7.72-7.72 1.47 1.35L5.41 20z\"/>\n",
              "  </svg>\n",
              "      </button>\n",
              "      \n",
              "  <style>\n",
              "    .colab-df-container {\n",
              "      display:flex;\n",
              "      flex-wrap:wrap;\n",
              "      gap: 12px;\n",
              "    }\n",
              "\n",
              "    .colab-df-convert {\n",
              "      background-color: #E8F0FE;\n",
              "      border: none;\n",
              "      border-radius: 50%;\n",
              "      cursor: pointer;\n",
              "      display: none;\n",
              "      fill: #1967D2;\n",
              "      height: 32px;\n",
              "      padding: 0 0 0 0;\n",
              "      width: 32px;\n",
              "    }\n",
              "\n",
              "    .colab-df-convert:hover {\n",
              "      background-color: #E2EBFA;\n",
              "      box-shadow: 0px 1px 2px rgba(60, 64, 67, 0.3), 0px 1px 3px 1px rgba(60, 64, 67, 0.15);\n",
              "      fill: #174EA6;\n",
              "    }\n",
              "\n",
              "    [theme=dark] .colab-df-convert {\n",
              "      background-color: #3B4455;\n",
              "      fill: #D2E3FC;\n",
              "    }\n",
              "\n",
              "    [theme=dark] .colab-df-convert:hover {\n",
              "      background-color: #434B5C;\n",
              "      box-shadow: 0px 1px 3px 1px rgba(0, 0, 0, 0.15);\n",
              "      filter: drop-shadow(0px 1px 2px rgba(0, 0, 0, 0.3));\n",
              "      fill: #FFFFFF;\n",
              "    }\n",
              "  </style>\n",
              "\n",
              "      <script>\n",
              "        const buttonEl =\n",
              "          document.querySelector('#df-49a85a22-860e-4198-8d46-885cf6c52cda button.colab-df-convert');\n",
              "        buttonEl.style.display =\n",
              "          google.colab.kernel.accessAllowed ? 'block' : 'none';\n",
              "\n",
              "        async function convertToInteractive(key) {\n",
              "          const element = document.querySelector('#df-49a85a22-860e-4198-8d46-885cf6c52cda');\n",
              "          const dataTable =\n",
              "            await google.colab.kernel.invokeFunction('convertToInteractive',\n",
              "                                                     [key], {});\n",
              "          if (!dataTable) return;\n",
              "\n",
              "          const docLinkHtml = 'Like what you see? Visit the ' +\n",
              "            '<a target=\"_blank\" href=https://colab.research.google.com/notebooks/data_table.ipynb>data table notebook</a>'\n",
              "            + ' to learn more about interactive tables.';\n",
              "          element.innerHTML = '';\n",
              "          dataTable['output_type'] = 'display_data';\n",
              "          await google.colab.output.renderOutput(dataTable, element);\n",
              "          const docLink = document.createElement('div');\n",
              "          docLink.innerHTML = docLinkHtml;\n",
              "          element.appendChild(docLink);\n",
              "        }\n",
              "      </script>\n",
              "    </div>\n",
              "  </div>\n",
              "  "
            ]
          },
          "metadata": {},
          "execution_count": 72
        }
      ]
    },
    {
      "cell_type": "markdown",
      "source": [
        "HANDLING NULL VALUES USING IMPUTATION"
      ],
      "metadata": {
        "id": "YgPBcsGBysnC"
      }
    },
    {
      "cell_type": "code",
      "source": [
        "mean_imputer = SimpleImputer(missing_values=np.nan, strategy = 'mean')\n",
        "imputed_data = mean_imputer.fit_transform(stroke_data[['bmi']])\n",
        "stroke_data['bmi'] = imputed_data\n",
        "print(stroke_data['bmi'].isnull().sum())"
      ],
      "metadata": {
        "colab": {
          "base_uri": "https://localhost:8080/"
        },
        "id": "5NcySnFKywX7",
        "outputId": "f4d724d7-e8b4-4baa-fa9e-b4ddb09ed0ba"
      },
      "execution_count": 73,
      "outputs": [
        {
          "output_type": "stream",
          "name": "stdout",
          "text": [
            "0\n"
          ]
        }
      ]
    },
    {
      "cell_type": "code",
      "source": [
        "stroke_data.isna().sum()"
      ],
      "metadata": {
        "colab": {
          "base_uri": "https://localhost:8080/"
        },
        "id": "5aRPZzYsG9Xo",
        "outputId": "caf938bd-81ca-41ed-c3d3-57e8df75a5ae"
      },
      "execution_count": 74,
      "outputs": [
        {
          "output_type": "execute_result",
          "data": {
            "text/plain": [
              "id                   0\n",
              "gender               0\n",
              "age                  0\n",
              "hypertension         0\n",
              "heart_disease        0\n",
              "ever_married         0\n",
              "work_type            0\n",
              "Residence_type       0\n",
              "avg_glucose_level    0\n",
              "bmi                  0\n",
              "smoking_status       0\n",
              "stroke               0\n",
              "dtype: int64"
            ]
          },
          "metadata": {},
          "execution_count": 74
        }
      ]
    },
    {
      "cell_type": "markdown",
      "source": [
        "**As we can see the BMI null values are now handled using the imputation method above**\n",
        "\n",
        "\n",
        "\n"
      ],
      "metadata": {
        "id": "G2DOWL3AHFsF"
      }
    },
    {
      "cell_type": "code",
      "source": [
        "stroke_data.dtypes\n"
      ],
      "metadata": {
        "colab": {
          "base_uri": "https://localhost:8080/"
        },
        "id": "pVLUfX4sMDVH",
        "outputId": "f1188909-bdf5-4c9b-9108-340ad16f0759"
      },
      "execution_count": 75,
      "outputs": [
        {
          "output_type": "execute_result",
          "data": {
            "text/plain": [
              "id                     int64\n",
              "gender                object\n",
              "age                  float64\n",
              "hypertension           int64\n",
              "heart_disease          int64\n",
              "ever_married          object\n",
              "work_type             object\n",
              "Residence_type        object\n",
              "avg_glucose_level    float64\n",
              "bmi                  float64\n",
              "smoking_status        object\n",
              "stroke                 int64\n",
              "dtype: object"
            ]
          },
          "metadata": {},
          "execution_count": 75
        }
      ]
    },
    {
      "cell_type": "markdown",
      "source": [
        "Transform variables that are object datatype using label encoder"
      ],
      "metadata": {
        "id": "R4mAFJ4iMGGx"
      }
    },
    {
      "cell_type": "code",
      "source": [
        "LE = LabelEncoder()\n",
        "\n",
        "#use a for loop to iterate through each column to transform\n",
        "for column in stroke_data.select_dtypes(include=['object']):\n",
        "    stroke_data[column] = LE.fit_transform(stroke_data[column])\n",
        "\n",
        "stroke_data.dtypes\n",
        "\n",
        "\n",
        "\n"
      ],
      "metadata": {
        "colab": {
          "base_uri": "https://localhost:8080/"
        },
        "id": "eIbYSEmHHOz7",
        "outputId": "295b3fb9-b2e1-4d29-ac04-80778c2c61ce"
      },
      "execution_count": 76,
      "outputs": [
        {
          "output_type": "execute_result",
          "data": {
            "text/plain": [
              "id                     int64\n",
              "gender                 int64\n",
              "age                  float64\n",
              "hypertension           int64\n",
              "heart_disease          int64\n",
              "ever_married           int64\n",
              "work_type              int64\n",
              "Residence_type         int64\n",
              "avg_glucose_level    float64\n",
              "bmi                  float64\n",
              "smoking_status         int64\n",
              "stroke                 int64\n",
              "dtype: object"
            ]
          },
          "metadata": {},
          "execution_count": 76
        }
      ]
    },
    {
      "cell_type": "markdown",
      "source": [
        "Before we had a couple of object datatypes and now they were transformed using the label encoder library.\n",
        "\n",
        "\n",
        "END OF PROJECT -- FERNANDO VARGAS "
      ],
      "metadata": {
        "id": "MDNA7cuiOiYw"
      }
    },
    {
      "cell_type": "markdown",
      "source": [
        "Project 2- Build and evaluate four classification models with the data we have"
      ],
      "metadata": {
        "id": "_7IPixbaTbRW"
      }
    },
    {
      "cell_type": "code",
      "source": [
        "from imblearn.over_sampling import SMOTE\n",
        "from sklearn.datasets import make_classification\n",
        "\n",
        "from imblearn.under_sampling import RandomUnderSampler\n",
        "from imblearn.pipeline import Pipeline\n",
        "\n",
        "sm = SMOTE(sampling_strategy=0.3, k_neighbors=5, random_state = 50)\n",
        "\n",
        "X = stroke_data[['bmi', 'age', 'avg_glucose_level', 'smoking_status', 'Residence_type', 'gender', 'hypertension', 'ever_married', 'work_type', 'heart_disease']]\n",
        "y = stroke_data['stroke']\n",
        "\n",
        "sm = SMOTE(random_state=2)\n",
        "X_train, y_train = sm.fit_resample(X, y)\n",
        "\n",
        "print('After oversampling the shape of x_train{}'.format(X_train.shape))\n",
        "print('After oversampling the shape of y_train{}'.format(y_train.shape))\n",
        "print(\"After OverSampling, counts of label '1': {}\".format(sum(y_train == 1))) \n",
        "print(\"After OverSampling, counts of label '0': {}\".format(sum(y_train == 0)))\n"
      ],
      "metadata": {
        "colab": {
          "base_uri": "https://localhost:8080/"
        },
        "id": "Bm8J6SYBToYL",
        "outputId": "1354069c-decb-42c1-e55f-596c70ee8e08"
      },
      "execution_count": 77,
      "outputs": [
        {
          "output_type": "stream",
          "name": "stdout",
          "text": [
            "After oversampling the shape of x_train(9722, 10)\n",
            "After oversampling the shape of y_train(9722,)\n",
            "After OverSampling, counts of label '1': 4861\n",
            "After OverSampling, counts of label '0': 4861\n"
          ]
        }
      ]
    },
    {
      "cell_type": "code",
      "source": [
        "X_train"
      ],
      "metadata": {
        "colab": {
          "base_uri": "https://localhost:8080/",
          "height": 424
        },
        "id": "Ifv1hODw8413",
        "outputId": "97b7743c-9417-43c9-d8ab-1c698fe625b1"
      },
      "execution_count": 78,
      "outputs": [
        {
          "output_type": "execute_result",
          "data": {
            "text/plain": [
              "            bmi        age  avg_glucose_level  smoking_status  Residence_type  \\\n",
              "0     36.600000  67.000000         228.690000               1               1   \n",
              "1     28.893237  61.000000         202.210000               2               0   \n",
              "2     32.500000  80.000000         105.920000               2               0   \n",
              "3     34.400000  49.000000         171.230000               3               1   \n",
              "4     24.000000  79.000000         174.120000               2               0   \n",
              "...         ...        ...                ...             ...             ...   \n",
              "9717  29.185466  63.529689         111.891582               1               0   \n",
              "9718  30.343137  72.799565         139.410676               1               0   \n",
              "9719  31.253100  77.486355         228.381636               1               0   \n",
              "9720  26.400000  57.723217          97.190938               2               0   \n",
              "9721  30.067862  61.600507         209.745103               1               0   \n",
              "\n",
              "      gender  hypertension  ever_married  work_type  heart_disease  \n",
              "0          1             0             1          2              1  \n",
              "1          0             0             1          3              0  \n",
              "2          1             0             1          2              1  \n",
              "3          0             0             1          2              0  \n",
              "4          0             1             1          3              0  \n",
              "...      ...           ...           ...        ...            ...  \n",
              "9717       1             0             1          2              0  \n",
              "9718       1             0             1          2              0  \n",
              "9719       0             0             1          2              0  \n",
              "9720       0             0             1          2              0  \n",
              "9721       1             0             1          2              0  \n",
              "\n",
              "[9722 rows x 10 columns]"
            ],
            "text/html": [
              "\n",
              "  <div id=\"df-a7cdd5c9-6115-4797-b41d-75dfde595e70\">\n",
              "    <div class=\"colab-df-container\">\n",
              "      <div>\n",
              "<style scoped>\n",
              "    .dataframe tbody tr th:only-of-type {\n",
              "        vertical-align: middle;\n",
              "    }\n",
              "\n",
              "    .dataframe tbody tr th {\n",
              "        vertical-align: top;\n",
              "    }\n",
              "\n",
              "    .dataframe thead th {\n",
              "        text-align: right;\n",
              "    }\n",
              "</style>\n",
              "<table border=\"1\" class=\"dataframe\">\n",
              "  <thead>\n",
              "    <tr style=\"text-align: right;\">\n",
              "      <th></th>\n",
              "      <th>bmi</th>\n",
              "      <th>age</th>\n",
              "      <th>avg_glucose_level</th>\n",
              "      <th>smoking_status</th>\n",
              "      <th>Residence_type</th>\n",
              "      <th>gender</th>\n",
              "      <th>hypertension</th>\n",
              "      <th>ever_married</th>\n",
              "      <th>work_type</th>\n",
              "      <th>heart_disease</th>\n",
              "    </tr>\n",
              "  </thead>\n",
              "  <tbody>\n",
              "    <tr>\n",
              "      <th>0</th>\n",
              "      <td>36.600000</td>\n",
              "      <td>67.000000</td>\n",
              "      <td>228.690000</td>\n",
              "      <td>1</td>\n",
              "      <td>1</td>\n",
              "      <td>1</td>\n",
              "      <td>0</td>\n",
              "      <td>1</td>\n",
              "      <td>2</td>\n",
              "      <td>1</td>\n",
              "    </tr>\n",
              "    <tr>\n",
              "      <th>1</th>\n",
              "      <td>28.893237</td>\n",
              "      <td>61.000000</td>\n",
              "      <td>202.210000</td>\n",
              "      <td>2</td>\n",
              "      <td>0</td>\n",
              "      <td>0</td>\n",
              "      <td>0</td>\n",
              "      <td>1</td>\n",
              "      <td>3</td>\n",
              "      <td>0</td>\n",
              "    </tr>\n",
              "    <tr>\n",
              "      <th>2</th>\n",
              "      <td>32.500000</td>\n",
              "      <td>80.000000</td>\n",
              "      <td>105.920000</td>\n",
              "      <td>2</td>\n",
              "      <td>0</td>\n",
              "      <td>1</td>\n",
              "      <td>0</td>\n",
              "      <td>1</td>\n",
              "      <td>2</td>\n",
              "      <td>1</td>\n",
              "    </tr>\n",
              "    <tr>\n",
              "      <th>3</th>\n",
              "      <td>34.400000</td>\n",
              "      <td>49.000000</td>\n",
              "      <td>171.230000</td>\n",
              "      <td>3</td>\n",
              "      <td>1</td>\n",
              "      <td>0</td>\n",
              "      <td>0</td>\n",
              "      <td>1</td>\n",
              "      <td>2</td>\n",
              "      <td>0</td>\n",
              "    </tr>\n",
              "    <tr>\n",
              "      <th>4</th>\n",
              "      <td>24.000000</td>\n",
              "      <td>79.000000</td>\n",
              "      <td>174.120000</td>\n",
              "      <td>2</td>\n",
              "      <td>0</td>\n",
              "      <td>0</td>\n",
              "      <td>1</td>\n",
              "      <td>1</td>\n",
              "      <td>3</td>\n",
              "      <td>0</td>\n",
              "    </tr>\n",
              "    <tr>\n",
              "      <th>...</th>\n",
              "      <td>...</td>\n",
              "      <td>...</td>\n",
              "      <td>...</td>\n",
              "      <td>...</td>\n",
              "      <td>...</td>\n",
              "      <td>...</td>\n",
              "      <td>...</td>\n",
              "      <td>...</td>\n",
              "      <td>...</td>\n",
              "      <td>...</td>\n",
              "    </tr>\n",
              "    <tr>\n",
              "      <th>9717</th>\n",
              "      <td>29.185466</td>\n",
              "      <td>63.529689</td>\n",
              "      <td>111.891582</td>\n",
              "      <td>1</td>\n",
              "      <td>0</td>\n",
              "      <td>1</td>\n",
              "      <td>0</td>\n",
              "      <td>1</td>\n",
              "      <td>2</td>\n",
              "      <td>0</td>\n",
              "    </tr>\n",
              "    <tr>\n",
              "      <th>9718</th>\n",
              "      <td>30.343137</td>\n",
              "      <td>72.799565</td>\n",
              "      <td>139.410676</td>\n",
              "      <td>1</td>\n",
              "      <td>0</td>\n",
              "      <td>1</td>\n",
              "      <td>0</td>\n",
              "      <td>1</td>\n",
              "      <td>2</td>\n",
              "      <td>0</td>\n",
              "    </tr>\n",
              "    <tr>\n",
              "      <th>9719</th>\n",
              "      <td>31.253100</td>\n",
              "      <td>77.486355</td>\n",
              "      <td>228.381636</td>\n",
              "      <td>1</td>\n",
              "      <td>0</td>\n",
              "      <td>0</td>\n",
              "      <td>0</td>\n",
              "      <td>1</td>\n",
              "      <td>2</td>\n",
              "      <td>0</td>\n",
              "    </tr>\n",
              "    <tr>\n",
              "      <th>9720</th>\n",
              "      <td>26.400000</td>\n",
              "      <td>57.723217</td>\n",
              "      <td>97.190938</td>\n",
              "      <td>2</td>\n",
              "      <td>0</td>\n",
              "      <td>0</td>\n",
              "      <td>0</td>\n",
              "      <td>1</td>\n",
              "      <td>2</td>\n",
              "      <td>0</td>\n",
              "    </tr>\n",
              "    <tr>\n",
              "      <th>9721</th>\n",
              "      <td>30.067862</td>\n",
              "      <td>61.600507</td>\n",
              "      <td>209.745103</td>\n",
              "      <td>1</td>\n",
              "      <td>0</td>\n",
              "      <td>1</td>\n",
              "      <td>0</td>\n",
              "      <td>1</td>\n",
              "      <td>2</td>\n",
              "      <td>0</td>\n",
              "    </tr>\n",
              "  </tbody>\n",
              "</table>\n",
              "<p>9722 rows × 10 columns</p>\n",
              "</div>\n",
              "      <button class=\"colab-df-convert\" onclick=\"convertToInteractive('df-a7cdd5c9-6115-4797-b41d-75dfde595e70')\"\n",
              "              title=\"Convert this dataframe to an interactive table.\"\n",
              "              style=\"display:none;\">\n",
              "        \n",
              "  <svg xmlns=\"http://www.w3.org/2000/svg\" height=\"24px\"viewBox=\"0 0 24 24\"\n",
              "       width=\"24px\">\n",
              "    <path d=\"M0 0h24v24H0V0z\" fill=\"none\"/>\n",
              "    <path d=\"M18.56 5.44l.94 2.06.94-2.06 2.06-.94-2.06-.94-.94-2.06-.94 2.06-2.06.94zm-11 1L8.5 8.5l.94-2.06 2.06-.94-2.06-.94L8.5 2.5l-.94 2.06-2.06.94zm10 10l.94 2.06.94-2.06 2.06-.94-2.06-.94-.94-2.06-.94 2.06-2.06.94z\"/><path d=\"M17.41 7.96l-1.37-1.37c-.4-.4-.92-.59-1.43-.59-.52 0-1.04.2-1.43.59L10.3 9.45l-7.72 7.72c-.78.78-.78 2.05 0 2.83L4 21.41c.39.39.9.59 1.41.59.51 0 1.02-.2 1.41-.59l7.78-7.78 2.81-2.81c.8-.78.8-2.07 0-2.86zM5.41 20L4 18.59l7.72-7.72 1.47 1.35L5.41 20z\"/>\n",
              "  </svg>\n",
              "      </button>\n",
              "      \n",
              "  <style>\n",
              "    .colab-df-container {\n",
              "      display:flex;\n",
              "      flex-wrap:wrap;\n",
              "      gap: 12px;\n",
              "    }\n",
              "\n",
              "    .colab-df-convert {\n",
              "      background-color: #E8F0FE;\n",
              "      border: none;\n",
              "      border-radius: 50%;\n",
              "      cursor: pointer;\n",
              "      display: none;\n",
              "      fill: #1967D2;\n",
              "      height: 32px;\n",
              "      padding: 0 0 0 0;\n",
              "      width: 32px;\n",
              "    }\n",
              "\n",
              "    .colab-df-convert:hover {\n",
              "      background-color: #E2EBFA;\n",
              "      box-shadow: 0px 1px 2px rgba(60, 64, 67, 0.3), 0px 1px 3px 1px rgba(60, 64, 67, 0.15);\n",
              "      fill: #174EA6;\n",
              "    }\n",
              "\n",
              "    [theme=dark] .colab-df-convert {\n",
              "      background-color: #3B4455;\n",
              "      fill: #D2E3FC;\n",
              "    }\n",
              "\n",
              "    [theme=dark] .colab-df-convert:hover {\n",
              "      background-color: #434B5C;\n",
              "      box-shadow: 0px 1px 3px 1px rgba(0, 0, 0, 0.15);\n",
              "      filter: drop-shadow(0px 1px 2px rgba(0, 0, 0, 0.3));\n",
              "      fill: #FFFFFF;\n",
              "    }\n",
              "  </style>\n",
              "\n",
              "      <script>\n",
              "        const buttonEl =\n",
              "          document.querySelector('#df-a7cdd5c9-6115-4797-b41d-75dfde595e70 button.colab-df-convert');\n",
              "        buttonEl.style.display =\n",
              "          google.colab.kernel.accessAllowed ? 'block' : 'none';\n",
              "\n",
              "        async function convertToInteractive(key) {\n",
              "          const element = document.querySelector('#df-a7cdd5c9-6115-4797-b41d-75dfde595e70');\n",
              "          const dataTable =\n",
              "            await google.colab.kernel.invokeFunction('convertToInteractive',\n",
              "                                                     [key], {});\n",
              "          if (!dataTable) return;\n",
              "\n",
              "          const docLinkHtml = 'Like what you see? Visit the ' +\n",
              "            '<a target=\"_blank\" href=https://colab.research.google.com/notebooks/data_table.ipynb>data table notebook</a>'\n",
              "            + ' to learn more about interactive tables.';\n",
              "          element.innerHTML = '';\n",
              "          dataTable['output_type'] = 'display_data';\n",
              "          await google.colab.output.renderOutput(dataTable, element);\n",
              "          const docLink = document.createElement('div');\n",
              "          docLink.innerHTML = docLinkHtml;\n",
              "          element.appendChild(docLink);\n",
              "        }\n",
              "      </script>\n",
              "    </div>\n",
              "  </div>\n",
              "  "
            ]
          },
          "metadata": {},
          "execution_count": 78
        }
      ]
    },
    {
      "cell_type": "code",
      "source": [
        "from sklearn.model_selection import train_test_split\n",
        "from sklearn.metrics import classification_report, confusion_matrix\n",
        "from sklearn.linear_model import LogisticRegression\n",
        "\n",
        "X_train, X_test, y_train, y_test = train_test_split(X_train, y_train, test_size=0.2, random_state=42)\n",
        "\n",
        "logreg = LogisticRegression(max_iter=1000, random_state=32, solver='liblinear')\n",
        "logreg.fit(X_train, y_train)\n",
        "\n",
        "predictions = logreg.predict(X_test)\n",
        "\n",
        "print(classification_report(y_test, predictions))\n",
        "print(logreg.score(X_test, y_test))\n",
        "\n",
        "\n",
        "cm = confusion_matrix(y_test, predictions)\n",
        "\n",
        "fig, ax = plt.subplots(figsize=(8, 8))\n",
        "ax.imshow(cm)\n",
        "ax.grid(False)\n",
        "ax.xaxis.set(ticks=(0, 1), ticklabels=('Predicted 0s', 'Predicted 1s'))\n",
        "ax.yaxis.set(ticks=(0, 1), ticklabels=('Actual 0s', 'Actual 1s'))\n",
        "ax.set_ylim(1.5, -0.5)\n",
        "for i in range(2):\n",
        "    for j in range(2):\n",
        "        ax.text(j, i, cm[i, j], ha='center', va='center', color='red')\n",
        "plt.show()"
      ],
      "metadata": {
        "colab": {
          "base_uri": "https://localhost:8080/",
          "height": 663
        },
        "id": "CIhPYI9hcqTi",
        "outputId": "ba7b785c-8da8-4cb3-ce17-a3231b8db17f"
      },
      "execution_count": 79,
      "outputs": [
        {
          "output_type": "stream",
          "name": "stdout",
          "text": [
            "              precision    recall  f1-score   support\n",
            "\n",
            "           0       0.80      0.78      0.79       975\n",
            "           1       0.78      0.81      0.80       970\n",
            "\n",
            "    accuracy                           0.79      1945\n",
            "   macro avg       0.79      0.79      0.79      1945\n",
            "weighted avg       0.79      0.79      0.79      1945\n",
            "\n",
            "0.7933161953727507\n"
          ]
        },
        {
          "output_type": "display_data",
          "data": {
            "text/plain": [
              "<Figure size 576x576 with 1 Axes>"
            ],
            "image/png": "[encoded data removed]"
          },
          "metadata": {}
        }
      ]
    },
    {
      "cell_type": "code",
      "source": [
        "from sklearn.naive_bayes import GaussianNB\n",
        "gnb = GaussianNB()\n",
        "gnb.fit(X_train, y_train)\n",
        "\n",
        "predictions = gnb.predict(X_train)\n",
        "\n",
        "print(classification_report(y_train, predictions))"
      ],
      "metadata": {
        "colab": {
          "base_uri": "https://localhost:8080/"
        },
        "id": "HZhvfGkcdbSq",
        "outputId": "7796a70a-7200-49cf-bc51-95cb6b7caa93"
      },
      "execution_count": 80,
      "outputs": [
        {
          "output_type": "stream",
          "name": "stdout",
          "text": [
            "              precision    recall  f1-score   support\n",
            "\n",
            "           0       0.84      0.71      0.77      3886\n",
            "           1       0.75      0.86      0.80      3891\n",
            "\n",
            "    accuracy                           0.79      7777\n",
            "   macro avg       0.79      0.79      0.79      7777\n",
            "weighted avg       0.79      0.79      0.79      7777\n",
            "\n"
          ]
        }
      ]
    },
    {
      "cell_type": "code",
      "source": [
        "from sklearn.neighbors import KNeighborsClassifier\n",
        "\n",
        "knn = KNeighborsClassifier()\n",
        "knn.fit(X_train, y_train)\n",
        "\n",
        "predictions = knn.predict(X_train)\n",
        "\n",
        "print(classification_report(y_train, predictions))"
      ],
      "metadata": {
        "colab": {
          "base_uri": "https://localhost:8080/"
        },
        "id": "CLDTUU6iiuYJ",
        "outputId": "713d9f53-4852-470d-c0d9-1e4c1b848e99"
      },
      "execution_count": 81,
      "outputs": [
        {
          "output_type": "stream",
          "name": "stdout",
          "text": [
            "              precision    recall  f1-score   support\n",
            "\n",
            "           0       0.99      0.84      0.91      3886\n",
            "           1       0.86      0.99      0.92      3891\n",
            "\n",
            "    accuracy                           0.92      7777\n",
            "   macro avg       0.93      0.92      0.92      7777\n",
            "weighted avg       0.93      0.92      0.92      7777\n",
            "\n"
          ]
        }
      ]
    },
    {
      "cell_type": "code",
      "source": [
        "from sklearn.svm import SVC\n",
        "\n",
        "svm = SVC(kernel='linear', C=1,probability=True)\n",
        "svm.fit(X_train, y_train)\n",
        "\n",
        "predictions = svm.predict(X_train)\n",
        "\n",
        "print(classification_report(y_train, predictions))\n"
      ],
      "metadata": {
        "id": "0Y3XOd65jfx3",
        "colab": {
          "base_uri": "https://localhost:8080/"
        },
        "outputId": "02455e55-6fb8-4039-f9d9-71147025a4c5"
      },
      "execution_count": 82,
      "outputs": [
        {
          "output_type": "stream",
          "name": "stdout",
          "text": [
            "              precision    recall  f1-score   support\n",
            "\n",
            "           0       0.82      0.77      0.80      3886\n",
            "           1       0.79      0.84      0.81      3891\n",
            "\n",
            "    accuracy                           0.81      7777\n",
            "   macro avg       0.81      0.81      0.81      7777\n",
            "weighted avg       0.81      0.81      0.81      7777\n",
            "\n"
          ]
        }
      ]
    },
    {
      "cell_type": "code",
      "source": [
        "\n",
        "from sklearn.linear_model import LogisticRegression\n",
        "from sklearn.model_selection import train_test_split\n",
        "from sklearn.metrics import roc_curve\n",
        "from sklearn.metrics import roc_auc_score\n",
        "\n",
        "\n",
        "\n",
        "pred_prob1 = gnb.predict_proba(X_test)\n",
        "pred_prob2=knn.predict_proba(X_test)\n",
        "pred_prob3 = svm.predict_proba(X_test)\n",
        "pred_prob4 = logreg.predict_proba(X_test)\n"
      ],
      "metadata": {
        "id": "IRmhusCbpUmO"
      },
      "execution_count": 83,
      "outputs": []
    },
    {
      "cell_type": "code",
      "source": [
        "\n",
        "# roc curve for models\n",
        "fpr1, tpr1, thresh1 = roc_curve(y_test, pred_prob1[:,1], pos_label=1)\n",
        "fpr2, tpr2, thresh2 = roc_curve(y_test, pred_prob2[:,1], pos_label=1)\n",
        "fpr3, tpr3, thresh3 = roc_curve(y_test, pred_prob3[:,1], pos_label=1)\n",
        "fpr4, tpr4, thresh4 = roc_curve(y_test, pred_prob4[:,1], pos_label=1)\n",
        "# roc curve for tpr = fpr \n",
        "random_probs = [0 for i in range(len(y_test))]\n",
        "p_fpr, p_tpr, _ = roc_curve(y_test, random_probs, pos_label=1)\n",
        "\n",
        "\n",
        "\n",
        "# auc scores\n",
        "auc_score1 = roc_auc_score(y_test, pred_prob1[:,1])\n",
        "auc_score2 = roc_auc_score(y_test, pred_prob2[:,1])\n",
        "\n",
        "# auc scores\n",
        "auc_score3 = roc_auc_score(y_test, pred_prob3[:,1])\n",
        "auc_score4 = roc_auc_score(y_test, pred_prob4[:,1])\n"
      ],
      "metadata": {
        "id": "Vmmu_jkCETS1"
      },
      "execution_count": 84,
      "outputs": []
    },
    {
      "cell_type": "code",
      "source": [
        "\n",
        "\n",
        "print(auc_score1, auc_score2,auc_score3, auc_score4)\n"
      ],
      "metadata": {
        "colab": {
          "base_uri": "https://localhost:8080/"
        },
        "id": "YSIabAqAGdZN",
        "outputId": "dcc3ee50-fd90-47df-d133-cc5ab08fe8a1"
      },
      "execution_count": 85,
      "outputs": [
        {
          "output_type": "stream",
          "name": "stdout",
          "text": [
            "0.8561956119481894 0.9476267512556172 0.8861866243721915 0.8857287866772403\n"
          ]
        }
      ]
    },
    {
      "cell_type": "code",
      "source": [
        "# matplotlib\n",
        "import matplotlib.pyplot as plt\n",
        "plt.style.use('seaborn')\n",
        "\n",
        "# plot roc curves\n",
        "plt.plot(fpr1, tpr1, linestyle='--',color='orange', label='gnb')\n",
        "plt.plot(fpr2, tpr2, linestyle='--',color='purple', label='knn')\n",
        "plt.plot(fpr3, tpr3, linestyle='--',color='red', label='svm')\n",
        "plt.plot(fpr4, tpr4, linestyle=\"--\", color='yellow', label='log reg')\n",
        "plt.plot(p_fpr, p_tpr, linestyle='--', color='blue')\n",
        "# title\n",
        "plt.title('ROC curve')\n",
        "# x label\n",
        "plt.xlabel('False Positive Rate')\n",
        "# y label\n",
        "plt.ylabel('True Positive rate')\n",
        "\n",
        "plt.legend(loc='best')\n",
        "plt.savefig('ROC',dpi=300)\n",
        "plt.show();"
      ],
      "metadata": {
        "colab": {
          "base_uri": "https://localhost:8080/",
          "height": 376
        },
        "id": "1dBurCwVGvz8",
        "outputId": "f2c0a9c3-1e6b-4c8c-f6e2-1e7094a4400e"
      },
      "execution_count": 86,
      "outputs": [
        {
          "output_type": "display_data",
          "data": {
            "text/plain": [
              "<Figure size 576x396 with 1 Axes>"
            ],
            "image/png": "[encoded data removed]"
          },
          "metadata": {}
        }
      ]
    },
    {
      "cell_type": "markdown",
      "source": [
        "Based on my logistic regression graph the best one is k neighbors for accuracy."
      ],
      "metadata": {
        "id": "bMQtkj6zSg4R"
      }
    }
  ]
}